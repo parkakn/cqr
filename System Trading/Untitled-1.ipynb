{
 "cells": [
  {
   "cell_type": "code",
   "execution_count": 3,
   "metadata": {},
   "outputs": [],
   "source": [
    "import requests\n",
    "import json\n",
    "import keyring\n",
    "import pandas as pd\n",
    "import time\n",
    "import numpy as np\n",
    "import datetime\n",
    "from datetime import timedelta\n",
    "import schedule\n",
    "# 한국 시간\n",
    "import pytz\n"
   ]
  },
  {
   "cell_type": "markdown",
   "metadata": {},
   "source": [
    "#### 포트폴리오 매수"
   ]
  },
  {
   "cell_type": "code",
   "execution_count": 5,
   "metadata": {},
   "outputs": [
    {
     "name": "stdout",
     "output_type": "stream",
     "text": [
      "https://openapivts.koreainvestment.com:29443/oauth2/tokenP\n"
     ]
    }
   ],
   "source": [
    "# API Key\n",
    "app_key = keyring.get_password('mock_app_key', '@2229673')\n",
    "app_secret = keyring.get_password('mock_app_secret', '@2229673')\n",
    "\n",
    "# base url\n",
    "url_base = \"https://openapivts.koreainvestment.com:29443\" # 모의투자\n",
    "\n",
    "# information\n",
    "headers = {\"content-type\": \"application/json\"}\n",
    "path = \"oauth2/tokenP\"\n",
    "body = {\n",
    "    \"grant_type\": \"client_credentials\",\n",
    "    \"appkey\": app_key,\n",
    "    \"appsecret\": app_secret\n",
    "}\n",
    "\n",
    "url = f\"{url_base}/{path}\"\n",
    "print(url)"
   ]
  },
  {
   "cell_type": "code",
   "execution_count": 6,
   "metadata": {},
   "outputs": [],
   "source": [
    "res = requests.post(url, headers=headers, data=json.dumps(body))\n",
    "access_token = res.json()['access_token']"
   ]
  },
  {
   "cell_type": "code",
   "execution_count": 8,
   "metadata": {},
   "outputs": [],
   "source": [
    "# 현재가 구하기\n",
    "def get_price(ticker):\n",
    "    path = \"uapi/domestic-stock/v1/quotations/inquire-price\"\n",
    "    url = f\"{url_base}/{path}\"\n",
    "\n",
    "    headers = {\n",
    "        \"Content-Type\": \"application/json\",\n",
    "        \"authorization\": f\"Bearer {access_token}\",\n",
    "        \"appKey\": app_key,\n",
    "        \"appSecret\": app_secret,\n",
    "        \"tr_id\": \"FHKST01010100\"\n",
    "    }\n",
    "\n",
    "    params = {\"fid_cond_mrkt_div_code\": \"J\", \"fid_input_iscd\": ticker}\n",
    "\n",
    "    res = requests.get(url, headers=headers, params=params)\n",
    "    price = res.json()['output']['stck_prpr']\n",
    "    price = int(price)\n",
    "    time.sleep(0.1)\n",
    "\n",
    "    return price"
   ]
  },
  {
   "cell_type": "code",
   "execution_count": 9,
   "metadata": {},
   "outputs": [],
   "source": [
    "def hashkey(datas):\n",
    "    path = \"uapi/hashkey\"\n",
    "    url = f\"{url_base}/{path}\"\n",
    "    headers = {\n",
    "        'content-Type': 'application/json',\n",
    "        'appKey': app_key,\n",
    "        'appSecret': app_secret,\n",
    "    }\n",
    "    res = requests.post(url, headers=headers, data=json.dumps(datas))\n",
    "    hashkey = res.json()[\"HASH\"]\n",
    "\n",
    "    return hashkey"
   ]
  },
  {
   "cell_type": "code",
   "execution_count": 10,
   "metadata": {},
   "outputs": [],
   "source": [
    "# 주문\n",
    "def trading(ticker, tr_id):\n",
    "\n",
    "    path = \"/uapi/domestic-stock/v1/trading/order-cash\"\n",
    "    url = f\"{url_base}/{path}\"\n",
    "\n",
    "    data = {\n",
    "        \"CANO\": \"50102559\", # 계좌번호 앞 8지리\n",
    "        \"ACNT_PRDT_CD\": \"01\",\n",
    "        \"PDNO\": ticker,     # 종목코드\n",
    "        \"ORD_DVSN\": \"03\",   # 주문 방법\n",
    "        \"ORD_QTY\": \"1\",     # 주문 수량\n",
    "        \"ORD_UNPR\": \"0\",    # 주문 단가 (시장가의 경우 0)\n",
    "    }\n",
    "\n",
    "    headers = {\n",
    "        \"Content-Type\": \"application/json\",\n",
    "        \"authorization\": f\"Bearer {access_token}\",\n",
    "        \"appKey\": app_key,\n",
    "        \"appSecret\": app_secret,\n",
    "        \"tr_id\": tr_id,\n",
    "        \"custtype\": \"P\",\n",
    "        \"hashkey\": hashkey(data)\n",
    "    }\n",
    "\n",
    "    res = requests.post(url, headers=headers, data=json.dumps(data)) "
   ]
  },
  {
   "cell_type": "code",
   "execution_count": 11,
   "metadata": {},
   "outputs": [],
   "source": [
    "# 계좌 잔고 조회\n",
    "def check_account():\n",
    "\n",
    "    output1 = []\n",
    "    output2 = []\n",
    "    CTX_AREA_NK100 = ''\n",
    "\n",
    "    while True:\n",
    "\n",
    "        path = \"/uapi/domestic-stock/v1/trading/inquire-balance\"\n",
    "        url = f\"{url_base}/{path}\"\n",
    "\n",
    "        headers = {\n",
    "            \"Content-Type\": \"application/json\",\n",
    "            \"authorization\": f\"Bearer {access_token}\",\n",
    "            \"appKey\": app_key,\n",
    "            \"appSecret\": app_secret,\n",
    "            \"tr_id\": \"VTTC8434R\"\n",
    "        }\n",
    "\n",
    "        params = {\n",
    "            \"CANO\": \"50102559\", # 계좌번호 앞 8지리\n",
    "            \"ACNT_PRDT_CD\": \"01\",\n",
    "            \"AFHR_FLPR_YN\": \"N\",\n",
    "            \"UNPR_DVSN\": \"01\",\n",
    "            \"FUND_STTL_ICLD_YN\": \"N\",\n",
    "            \"FNCG_AMT_AUTO_RDPT_YN\": \"N\",\n",
    "            \"OFL_YN\": \"\",\n",
    "            \"INQR_DVSN\": \"01\",\n",
    "            \"PRCS_DVSN\": \"00\",\n",
    "            \"CTX_AREA_FK100\": '',\n",
    "            \"CTX_AREA_NK100\": CTX_AREA_NK100\n",
    "        }\n",
    "\n",
    "        res = requests.get(url, headers=headers, params=params)\n",
    "        output1.append(pd.DataFrame.from_records(res.json()['output1']))\n",
    "\n",
    "        CTX_AREA_NK100 = res.json()['ctx_area_nk100'].strip()\n",
    "\n",
    "        if CTX_AREA_NK100 == '':\n",
    "            output2.append(res.json()['output2'][0])\n",
    "            break\n",
    "\n",
    "    if not output1[0].empty:\n",
    "        res1 = pd.concat(output1)[['pdno',\n",
    "                                   'hldg_qty']].rename(columns={\n",
    "                                       'pdno': '종목코드',\n",
    "                                       'hldg_qty': '보유수량'\n",
    "                                   }).reset_index(drop=True)\n",
    "    else:\n",
    "        res1 = pd.DataFrame(columns=['종목코드', '보유수량'])\n",
    "\n",
    "    res2 = output2[0]\n",
    "\n",
    "    return [res1, res2]"
   ]
  },
  {
   "cell_type": "markdown",
   "metadata": {},
   "source": [
    "이제 각 종목 당 몇주를 사야하는지 수량을 계산하자."
   ]
  },
  {
   "cell_type": "code",
   "execution_count": 12,
   "metadata": {},
   "outputs": [],
   "source": [
    "# 모델 포트폴리오\n",
    "mp = pd.DataFrame({\n",
    "    '종목코드': [\n",
    "        '005930',  # 삼성전자\n",
    "        '373220',  # LG에너지솔루션\n",
    "        '000660',  # SK하이닉스\n",
    "        '207940',  # 삼성바이오로직스\n",
    "        '051910',  # LG화학\n",
    "        '035420',  # NAVER\n",
    "        '005380',  # 현대차\n",
    "        '006400',  # 삼성SDI,\n",
    "        '035720',  # 카카오\n",
    "        '105560',  #KB금융\n",
    "    ]\n",
    "})"
   ]
  },
  {
   "cell_type": "code",
   "execution_count": 13,
   "metadata": {},
   "outputs": [],
   "source": [
    "# 보유 종목과 aum 불러오기\n",
    "ap, account = check_account()"
   ]
  },
  {
   "cell_type": "code",
   "execution_count": 16,
   "metadata": {},
   "outputs": [],
   "source": [
    "# 주당 투자 금액\n",
    "invest_per_stock = int(account['tot_evlu_amt']) * 0.98 / len(mp)"
   ]
  },
  {
   "cell_type": "code",
   "execution_count": 22,
   "metadata": {},
   "outputs": [
    {
     "name": "stderr",
     "output_type": "stream",
     "text": [
      "C:\\Users\\ewp\\AppData\\Local\\Temp\\ipykernel_10428\\1193563776.py:3: FutureWarning: Downcasting object dtype arrays on .fillna, .ffill, .bfill is deprecated and will change in a future version. Call result.infer_objects(copy=False) instead. To opt-in to the future behavior, set `pd.set_option('future.no_silent_downcasting', True)`\n",
      "  target['보유수량'] = target['보유수량'].fillna(0).apply(pd.to_numeric)\n"
     ]
    }
   ],
   "source": [
    "# 매매 구성\n",
    "target = mp.merge(ap, on='종목코드', how='outer')\n",
    "target['보유수량'] = target['보유수량'].fillna(0).apply(pd.to_numeric)"
   ]
  },
  {
   "cell_type": "code",
   "execution_count": 33,
   "metadata": {},
   "outputs": [],
   "source": [
    "# 현재가 확인\n",
    "target['현재가'] = target.apply(lambda x: get_price(x.종목코드), axis=1)"
   ]
  },
  {
   "cell_type": "code",
   "execution_count": 42,
   "metadata": {},
   "outputs": [],
   "source": [
    "# 목표수량 및 투자수량 입력\n",
    "target['목표수량'] = np.where(target['종목코드'].isin(mp['종목코드'].tolist()),\n",
    "                          round(invest_per_stock / target['현재가']), 0)"
   ]
  },
  {
   "cell_type": "code",
   "execution_count": 46,
   "metadata": {},
   "outputs": [],
   "source": [
    "target['투자수량'] = target['목표수량'] - target['보유수량']"
   ]
  },
  {
   "cell_type": "code",
   "execution_count": 47,
   "metadata": {},
   "outputs": [
    {
     "data": {
      "text/html": [
       "<div>\n",
       "<style scoped>\n",
       "    .dataframe tbody tr th:only-of-type {\n",
       "        vertical-align: middle;\n",
       "    }\n",
       "\n",
       "    .dataframe tbody tr th {\n",
       "        vertical-align: top;\n",
       "    }\n",
       "\n",
       "    .dataframe thead th {\n",
       "        text-align: right;\n",
       "    }\n",
       "</style>\n",
       "<table border=\"1\" class=\"dataframe\">\n",
       "  <thead>\n",
       "    <tr style=\"text-align: right;\">\n",
       "      <th></th>\n",
       "      <th>종목코드</th>\n",
       "      <th>보유수량</th>\n",
       "      <th>현재가</th>\n",
       "      <th>목표수량</th>\n",
       "      <th>투자수량</th>\n",
       "    </tr>\n",
       "  </thead>\n",
       "  <tbody>\n",
       "    <tr>\n",
       "      <th>0</th>\n",
       "      <td>000660</td>\n",
       "      <td>0</td>\n",
       "      <td>171900</td>\n",
       "      <td>6.0</td>\n",
       "      <td>6.0</td>\n",
       "    </tr>\n",
       "    <tr>\n",
       "      <th>1</th>\n",
       "      <td>005380</td>\n",
       "      <td>0</td>\n",
       "      <td>253000</td>\n",
       "      <td>4.0</td>\n",
       "      <td>4.0</td>\n",
       "    </tr>\n",
       "    <tr>\n",
       "      <th>2</th>\n",
       "      <td>005930</td>\n",
       "      <td>0</td>\n",
       "      <td>73300</td>\n",
       "      <td>13.0</td>\n",
       "      <td>13.0</td>\n",
       "    </tr>\n",
       "    <tr>\n",
       "      <th>3</th>\n",
       "      <td>006400</td>\n",
       "      <td>0</td>\n",
       "      <td>426000</td>\n",
       "      <td>2.0</td>\n",
       "      <td>2.0</td>\n",
       "    </tr>\n",
       "    <tr>\n",
       "      <th>4</th>\n",
       "      <td>035420</td>\n",
       "      <td>0</td>\n",
       "      <td>188000</td>\n",
       "      <td>5.0</td>\n",
       "      <td>5.0</td>\n",
       "    </tr>\n",
       "    <tr>\n",
       "      <th>5</th>\n",
       "      <td>035720</td>\n",
       "      <td>0</td>\n",
       "      <td>53200</td>\n",
       "      <td>18.0</td>\n",
       "      <td>18.0</td>\n",
       "    </tr>\n",
       "    <tr>\n",
       "      <th>6</th>\n",
       "      <td>051910</td>\n",
       "      <td>0</td>\n",
       "      <td>443000</td>\n",
       "      <td>2.0</td>\n",
       "      <td>2.0</td>\n",
       "    </tr>\n",
       "    <tr>\n",
       "      <th>7</th>\n",
       "      <td>105560</td>\n",
       "      <td>0</td>\n",
       "      <td>70900</td>\n",
       "      <td>14.0</td>\n",
       "      <td>14.0</td>\n",
       "    </tr>\n",
       "    <tr>\n",
       "      <th>8</th>\n",
       "      <td>207940</td>\n",
       "      <td>0</td>\n",
       "      <td>838000</td>\n",
       "      <td>1.0</td>\n",
       "      <td>1.0</td>\n",
       "    </tr>\n",
       "    <tr>\n",
       "      <th>9</th>\n",
       "      <td>373220</td>\n",
       "      <td>0</td>\n",
       "      <td>402500</td>\n",
       "      <td>2.0</td>\n",
       "      <td>2.0</td>\n",
       "    </tr>\n",
       "  </tbody>\n",
       "</table>\n",
       "</div>"
      ],
      "text/plain": [
       "     종목코드  보유수량     현재가  목표수량  투자수량\n",
       "0  000660     0  171900   6.0   6.0\n",
       "1  005380     0  253000   4.0   4.0\n",
       "2  005930     0   73300  13.0  13.0\n",
       "3  006400     0  426000   2.0   2.0\n",
       "4  035420     0  188000   5.0   5.0\n",
       "5  035720     0   53200  18.0  18.0\n",
       "6  051910     0  443000   2.0   2.0\n",
       "7  105560     0   70900  14.0  14.0\n",
       "8  207940     0  838000   1.0   1.0\n",
       "9  373220     0  402500   2.0   2.0"
      ]
     },
     "execution_count": 47,
     "metadata": {},
     "output_type": "execute_result"
    }
   ],
   "source": [
    "target"
   ]
  },
  {
   "cell_type": "code",
   "execution_count": 50,
   "metadata": {},
   "outputs": [],
   "source": [
    "# Define the Korea Standard Time timezone\n",
    "kst_tz = pytz.timezone('Asia/Seoul')\n",
    "\n",
    "# 시간 분할\n",
    "startDt1 = datetime.datetime.now().astimezone(kst_tz) + timedelta(minutes=1)\n",
    "startDt2 = datetime.datetime.now().astimezone(kst_tz).replace(hour=9,minute=10,second=0,microsecond=0)\n",
    "startDt = max(startDt1, startDt2)\n",
    "endDt = datetime.datetime.now().astimezone(kst_tz).replace(hour=15,minute=0,second=0,microsecond=0)"
   ]
  },
  {
   "cell_type": "code",
   "execution_count": 116,
   "metadata": {},
   "outputs": [],
   "source": [
    "# 스케줄 초기화\n",
    "schedule.clear()"
   ]
  },
  {
   "cell_type": "code",
   "execution_count": 52,
   "metadata": {},
   "outputs": [
    {
     "name": "stderr",
     "output_type": "stream",
     "text": [
      "C:\\Users\\ewp\\AppData\\Local\\Temp\\ipykernel_10428\\2448283365.py:8: FutureWarning: Non-integer 'periods' in pd.date_range, pd.timedelta_range, pd.period_range, and pd.interval_range are deprecated and will raise in a future version.\n",
      "  time_list = pd.date_range(startDt, endDt, periods = abs(n))\n",
      "C:\\Users\\ewp\\AppData\\Local\\Temp\\ipykernel_10428\\2448283365.py:8: FutureWarning: Non-integer 'periods' in pd.date_range, pd.timedelta_range, pd.period_range, and pd.interval_range are deprecated and will raise in a future version.\n",
      "  time_list = pd.date_range(startDt, endDt, periods = abs(n))\n",
      "C:\\Users\\ewp\\AppData\\Local\\Temp\\ipykernel_10428\\2448283365.py:8: FutureWarning: Non-integer 'periods' in pd.date_range, pd.timedelta_range, pd.period_range, and pd.interval_range are deprecated and will raise in a future version.\n",
      "  time_list = pd.date_range(startDt, endDt, periods = abs(n))\n",
      "C:\\Users\\ewp\\AppData\\Local\\Temp\\ipykernel_10428\\2448283365.py:8: FutureWarning: Non-integer 'periods' in pd.date_range, pd.timedelta_range, pd.period_range, and pd.interval_range are deprecated and will raise in a future version.\n",
      "  time_list = pd.date_range(startDt, endDt, periods = abs(n))\n",
      "C:\\Users\\ewp\\AppData\\Local\\Temp\\ipykernel_10428\\2448283365.py:8: FutureWarning: Non-integer 'periods' in pd.date_range, pd.timedelta_range, pd.period_range, and pd.interval_range are deprecated and will raise in a future version.\n",
      "  time_list = pd.date_range(startDt, endDt, periods = abs(n))\n",
      "C:\\Users\\ewp\\AppData\\Local\\Temp\\ipykernel_10428\\2448283365.py:8: FutureWarning: Non-integer 'periods' in pd.date_range, pd.timedelta_range, pd.period_range, and pd.interval_range are deprecated and will raise in a future version.\n",
      "  time_list = pd.date_range(startDt, endDt, periods = abs(n))\n",
      "C:\\Users\\ewp\\AppData\\Local\\Temp\\ipykernel_10428\\2448283365.py:8: FutureWarning: Non-integer 'periods' in pd.date_range, pd.timedelta_range, pd.period_range, and pd.interval_range are deprecated and will raise in a future version.\n",
      "  time_list = pd.date_range(startDt, endDt, periods = abs(n))\n",
      "C:\\Users\\ewp\\AppData\\Local\\Temp\\ipykernel_10428\\2448283365.py:8: FutureWarning: Non-integer 'periods' in pd.date_range, pd.timedelta_range, pd.period_range, and pd.interval_range are deprecated and will raise in a future version.\n",
      "  time_list = pd.date_range(startDt, endDt, periods = abs(n))\n",
      "C:\\Users\\ewp\\AppData\\Local\\Temp\\ipykernel_10428\\2448283365.py:8: FutureWarning: Non-integer 'periods' in pd.date_range, pd.timedelta_range, pd.period_range, and pd.interval_range are deprecated and will raise in a future version.\n",
      "  time_list = pd.date_range(startDt, endDt, periods = abs(n))\n",
      "C:\\Users\\ewp\\AppData\\Local\\Temp\\ipykernel_10428\\2448283365.py:8: FutureWarning: Non-integer 'periods' in pd.date_range, pd.timedelta_range, pd.period_range, and pd.interval_range are deprecated and will raise in a future version.\n",
      "  time_list = pd.date_range(startDt, endDt, periods = abs(n))\n"
     ]
    }
   ],
   "source": [
    "# 스케줄 등록\n",
    "for t in range(target.shape[0]) :\n",
    "    \n",
    "    n = target.loc[t, '투자수량']                    # Define quantity\n",
    "    position = 'VTTC0802U' if n > 0 else 'VTTC0801U' # Sell: VTTC0802U or Buy: VTTC0802U\n",
    "    ticker = target.loc[t, '종목코드']                # Define ticker \n",
    "\n",
    "    time_list = pd.date_range(startDt, endDt, periods = abs(n))    \n",
    "    time_list = time_list.round(freq = 's').tolist()    \n",
    "    time_list_sec = [s.strftime('%H:%M:%S') for s in time_list]                 \n",
    "\n",
    "    for i in time_list_sec:\n",
    "        schedule.every().day.at(i).do(trading, ticker, position) "
   ]
  },
  {
   "cell_type": "code",
   "execution_count": 53,
   "metadata": {},
   "outputs": [
    {
     "data": {
      "text/plain": [
       "[Every 1 day at 14:40:05 do trading('000660', 'VTTC0802U') (last run: [never], next run: 2024-03-10 14:40:05),\n",
       " Every 1 day at 14:44:04 do trading('000660', 'VTTC0802U') (last run: [never], next run: 2024-03-10 14:44:04),\n",
       " Every 1 day at 14:48:03 do trading('000660', 'VTTC0802U') (last run: [never], next run: 2024-03-10 14:48:03),\n",
       " Every 1 day at 14:52:02 do trading('000660', 'VTTC0802U') (last run: [never], next run: 2024-03-10 14:52:02),\n",
       " Every 1 day at 14:56:01 do trading('000660', 'VTTC0802U') (last run: [never], next run: 2024-03-10 14:56:01),\n",
       " Every 1 day at 15:00:00 do trading('000660', 'VTTC0802U') (last run: [never], next run: 2024-03-10 15:00:00),\n",
       " Every 1 day at 14:40:05 do trading('005380', 'VTTC0802U') (last run: [never], next run: 2024-03-10 14:40:05),\n",
       " Every 1 day at 14:46:43 do trading('005380', 'VTTC0802U') (last run: [never], next run: 2024-03-10 14:46:43),\n",
       " Every 1 day at 14:53:22 do trading('005380', 'VTTC0802U') (last run: [never], next run: 2024-03-10 14:53:22),\n",
       " Every 1 day at 15:00:00 do trading('005380', 'VTTC0802U') (last run: [never], next run: 2024-03-10 15:00:00),\n",
       " Every 1 day at 14:40:05 do trading('005930', 'VTTC0802U') (last run: [never], next run: 2024-03-10 14:40:05),\n",
       " Every 1 day at 14:41:44 do trading('005930', 'VTTC0802U') (last run: [never], next run: 2024-03-10 14:41:44),\n",
       " Every 1 day at 14:43:24 do trading('005930', 'VTTC0802U') (last run: [never], next run: 2024-03-10 14:43:24),\n",
       " Every 1 day at 14:45:04 do trading('005930', 'VTTC0802U') (last run: [never], next run: 2024-03-10 14:45:04),\n",
       " Every 1 day at 14:46:43 do trading('005930', 'VTTC0802U') (last run: [never], next run: 2024-03-10 14:46:43),\n",
       " Every 1 day at 14:48:23 do trading('005930', 'VTTC0802U') (last run: [never], next run: 2024-03-10 14:48:23),\n",
       " Every 1 day at 14:50:02 do trading('005930', 'VTTC0802U') (last run: [never], next run: 2024-03-10 14:50:02),\n",
       " Every 1 day at 14:51:42 do trading('005930', 'VTTC0802U') (last run: [never], next run: 2024-03-10 14:51:42),\n",
       " Every 1 day at 14:53:22 do trading('005930', 'VTTC0802U') (last run: [never], next run: 2024-03-10 14:53:22),\n",
       " Every 1 day at 14:55:01 do trading('005930', 'VTTC0802U') (last run: [never], next run: 2024-03-10 14:55:01),\n",
       " Every 1 day at 14:56:41 do trading('005930', 'VTTC0802U') (last run: [never], next run: 2024-03-10 14:56:41),\n",
       " Every 1 day at 14:58:20 do trading('005930', 'VTTC0802U') (last run: [never], next run: 2024-03-10 14:58:20),\n",
       " Every 1 day at 15:00:00 do trading('005930', 'VTTC0802U') (last run: [never], next run: 2024-03-10 15:00:00),\n",
       " Every 1 day at 14:40:05 do trading('006400', 'VTTC0802U') (last run: [never], next run: 2024-03-10 14:40:05),\n",
       " Every 1 day at 15:00:00 do trading('006400', 'VTTC0802U') (last run: [never], next run: 2024-03-10 15:00:00),\n",
       " Every 1 day at 14:40:05 do trading('035420', 'VTTC0802U') (last run: [never], next run: 2024-03-10 14:40:05),\n",
       " Every 1 day at 14:45:04 do trading('035420', 'VTTC0802U') (last run: [never], next run: 2024-03-10 14:45:04),\n",
       " Every 1 day at 14:50:02 do trading('035420', 'VTTC0802U') (last run: [never], next run: 2024-03-10 14:50:02),\n",
       " Every 1 day at 14:55:01 do trading('035420', 'VTTC0802U') (last run: [never], next run: 2024-03-10 14:55:01),\n",
       " Every 1 day at 15:00:00 do trading('035420', 'VTTC0802U') (last run: [never], next run: 2024-03-10 15:00:00),\n",
       " Every 1 day at 14:40:05 do trading('035720', 'VTTC0802U') (last run: [never], next run: 2024-03-10 14:40:05),\n",
       " Every 1 day at 14:41:15 do trading('035720', 'VTTC0802U') (last run: [never], next run: 2024-03-10 14:41:15),\n",
       " Every 1 day at 14:42:25 do trading('035720', 'VTTC0802U') (last run: [never], next run: 2024-03-10 14:42:25),\n",
       " Every 1 day at 14:43:36 do trading('035720', 'VTTC0802U') (last run: [never], next run: 2024-03-10 14:43:36),\n",
       " Every 1 day at 14:44:46 do trading('035720', 'VTTC0802U') (last run: [never], next run: 2024-03-10 14:44:46),\n",
       " Every 1 day at 14:45:56 do trading('035720', 'VTTC0802U') (last run: [never], next run: 2024-03-10 14:45:56),\n",
       " Every 1 day at 14:47:07 do trading('035720', 'VTTC0802U') (last run: [never], next run: 2024-03-10 14:47:07),\n",
       " Every 1 day at 14:48:17 do trading('035720', 'VTTC0802U') (last run: [never], next run: 2024-03-10 14:48:17),\n",
       " Every 1 day at 14:49:27 do trading('035720', 'VTTC0802U') (last run: [never], next run: 2024-03-10 14:49:27),\n",
       " Every 1 day at 14:50:38 do trading('035720', 'VTTC0802U') (last run: [never], next run: 2024-03-10 14:50:38),\n",
       " Every 1 day at 14:51:48 do trading('035720', 'VTTC0802U') (last run: [never], next run: 2024-03-10 14:51:48),\n",
       " Every 1 day at 14:52:58 do trading('035720', 'VTTC0802U') (last run: [never], next run: 2024-03-10 14:52:58),\n",
       " Every 1 day at 14:54:08 do trading('035720', 'VTTC0802U') (last run: [never], next run: 2024-03-10 14:54:08),\n",
       " Every 1 day at 14:55:19 do trading('035720', 'VTTC0802U') (last run: [never], next run: 2024-03-10 14:55:19),\n",
       " Every 1 day at 14:56:29 do trading('035720', 'VTTC0802U') (last run: [never], next run: 2024-03-10 14:56:29),\n",
       " Every 1 day at 14:57:39 do trading('035720', 'VTTC0802U') (last run: [never], next run: 2024-03-10 14:57:39),\n",
       " Every 1 day at 14:58:50 do trading('035720', 'VTTC0802U') (last run: [never], next run: 2024-03-10 14:58:50),\n",
       " Every 1 day at 15:00:00 do trading('035720', 'VTTC0802U') (last run: [never], next run: 2024-03-10 15:00:00),\n",
       " Every 1 day at 14:40:05 do trading('051910', 'VTTC0802U') (last run: [never], next run: 2024-03-10 14:40:05),\n",
       " Every 1 day at 15:00:00 do trading('051910', 'VTTC0802U') (last run: [never], next run: 2024-03-10 15:00:00),\n",
       " Every 1 day at 14:40:05 do trading('105560', 'VTTC0802U') (last run: [never], next run: 2024-03-10 14:40:05),\n",
       " Every 1 day at 14:41:37 do trading('105560', 'VTTC0802U') (last run: [never], next run: 2024-03-10 14:41:37),\n",
       " Every 1 day at 14:43:09 do trading('105560', 'VTTC0802U') (last run: [never], next run: 2024-03-10 14:43:09),\n",
       " Every 1 day at 14:44:41 do trading('105560', 'VTTC0802U') (last run: [never], next run: 2024-03-10 14:44:41),\n",
       " Every 1 day at 14:46:13 do trading('105560', 'VTTC0802U') (last run: [never], next run: 2024-03-10 14:46:13),\n",
       " Every 1 day at 14:47:44 do trading('105560', 'VTTC0802U') (last run: [never], next run: 2024-03-10 14:47:44),\n",
       " Every 1 day at 14:49:16 do trading('105560', 'VTTC0802U') (last run: [never], next run: 2024-03-10 14:49:16),\n",
       " Every 1 day at 14:50:48 do trading('105560', 'VTTC0802U') (last run: [never], next run: 2024-03-10 14:50:48),\n",
       " Every 1 day at 14:52:20 do trading('105560', 'VTTC0802U') (last run: [never], next run: 2024-03-10 14:52:20),\n",
       " Every 1 day at 14:53:52 do trading('105560', 'VTTC0802U') (last run: [never], next run: 2024-03-10 14:53:52),\n",
       " Every 1 day at 14:55:24 do trading('105560', 'VTTC0802U') (last run: [never], next run: 2024-03-10 14:55:24),\n",
       " Every 1 day at 14:56:56 do trading('105560', 'VTTC0802U') (last run: [never], next run: 2024-03-10 14:56:56),\n",
       " Every 1 day at 14:58:28 do trading('105560', 'VTTC0802U') (last run: [never], next run: 2024-03-10 14:58:28),\n",
       " Every 1 day at 15:00:00 do trading('105560', 'VTTC0802U') (last run: [never], next run: 2024-03-10 15:00:00),\n",
       " Every 1 day at 14:40:05 do trading('207940', 'VTTC0802U') (last run: [never], next run: 2024-03-10 14:40:05),\n",
       " Every 1 day at 14:40:05 do trading('373220', 'VTTC0802U') (last run: [never], next run: 2024-03-10 14:40:05),\n",
       " Every 1 day at 15:00:00 do trading('373220', 'VTTC0802U') (last run: [never], next run: 2024-03-10 15:00:00)]"
      ]
     },
     "execution_count": 53,
     "metadata": {},
     "output_type": "execute_result"
    }
   ],
   "source": [
    "# 스케줄 확인\n",
    "schedule.get_jobs()"
   ]
  },
  {
   "cell_type": "code",
   "execution_count": 114,
   "metadata": {},
   "outputs": [
    {
     "ename": "KeyboardInterrupt",
     "evalue": "",
     "output_type": "error",
     "traceback": [
      "\u001b[1;31m---------------------------------------------------------------------------\u001b[0m",
      "\u001b[1;31mKeyboardInterrupt\u001b[0m                         Traceback (most recent call last)",
      "Cell \u001b[1;32mIn[114], line 3\u001b[0m\n\u001b[0;32m      1\u001b[0m \u001b[38;5;66;03m# 스케줄 실행\u001b[39;00m\n\u001b[0;32m      2\u001b[0m \u001b[38;5;28;01mwhile\u001b[39;00m \u001b[38;5;28;01mTrue\u001b[39;00m:\n\u001b[1;32m----> 3\u001b[0m     \u001b[43mschedule\u001b[49m\u001b[38;5;241;43m.\u001b[39;49m\u001b[43mrun_pending\u001b[49m\u001b[43m(\u001b[49m\u001b[43m)\u001b[49m    \n\u001b[0;32m      4\u001b[0m     \u001b[38;5;28;01mif\u001b[39;00m datetime\u001b[38;5;241m.\u001b[39mdatetime\u001b[38;5;241m.\u001b[39mnow()\u001b[38;5;241m.\u001b[39mastimezone(kst_tz) \u001b[38;5;241m>\u001b[39m endDt :\n\u001b[0;32m      5\u001b[0m         \u001b[38;5;28mprint\u001b[39m(\u001b[38;5;124m'\u001b[39m\u001b[38;5;124m거래가 완료되었습니다.\u001b[39m\u001b[38;5;124m'\u001b[39m)        \n",
      "File \u001b[1;32mc:\\Users\\ewp\\AppData\\Local\\Programs\\Python\\Python312\\Lib\\site-packages\\schedule\\__init__.py:822\u001b[0m, in \u001b[0;36mrun_pending\u001b[1;34m()\u001b[0m\n\u001b[0;32m    818\u001b[0m \u001b[38;5;28;01mdef\u001b[39;00m \u001b[38;5;21mrun_pending\u001b[39m() \u001b[38;5;241m-\u001b[39m\u001b[38;5;241m>\u001b[39m \u001b[38;5;28;01mNone\u001b[39;00m:\n\u001b[0;32m    819\u001b[0m \u001b[38;5;250m    \u001b[39m\u001b[38;5;124;03m\"\"\"Calls :meth:`run_pending <Scheduler.run_pending>` on the\u001b[39;00m\n\u001b[0;32m    820\u001b[0m \u001b[38;5;124;03m    :data:`default scheduler instance <default_scheduler>`.\u001b[39;00m\n\u001b[0;32m    821\u001b[0m \u001b[38;5;124;03m    \"\"\"\u001b[39;00m\n\u001b[1;32m--> 822\u001b[0m     \u001b[43mdefault_scheduler\u001b[49m\u001b[38;5;241;43m.\u001b[39;49m\u001b[43mrun_pending\u001b[49m\u001b[43m(\u001b[49m\u001b[43m)\u001b[49m\n",
      "File \u001b[1;32mc:\\Users\\ewp\\AppData\\Local\\Programs\\Python\\Python312\\Lib\\site-packages\\schedule\\__init__.py:99\u001b[0m, in \u001b[0;36mScheduler.run_pending\u001b[1;34m(self)\u001b[0m\n\u001b[0;32m     89\u001b[0m \u001b[38;5;250m\u001b[39m\u001b[38;5;124;03m\"\"\"\u001b[39;00m\n\u001b[0;32m     90\u001b[0m \u001b[38;5;124;03mRun all jobs that are scheduled to run.\u001b[39;00m\n\u001b[0;32m     91\u001b[0m \n\u001b[1;32m   (...)\u001b[0m\n\u001b[0;32m     96\u001b[0m \u001b[38;5;124;03mbetween but only once.\u001b[39;00m\n\u001b[0;32m     97\u001b[0m \u001b[38;5;124;03m\"\"\"\u001b[39;00m\n\u001b[0;32m     98\u001b[0m runnable_jobs \u001b[38;5;241m=\u001b[39m (job \u001b[38;5;28;01mfor\u001b[39;00m job \u001b[38;5;129;01min\u001b[39;00m \u001b[38;5;28mself\u001b[39m\u001b[38;5;241m.\u001b[39mjobs \u001b[38;5;28;01mif\u001b[39;00m job\u001b[38;5;241m.\u001b[39mshould_run)\n\u001b[1;32m---> 99\u001b[0m \u001b[38;5;28;01mfor\u001b[39;00m job \u001b[38;5;129;01min\u001b[39;00m \u001b[38;5;28;43msorted\u001b[39;49m\u001b[43m(\u001b[49m\u001b[43mrunnable_jobs\u001b[49m\u001b[43m)\u001b[49m:\n\u001b[0;32m    100\u001b[0m     \u001b[38;5;28mself\u001b[39m\u001b[38;5;241m.\u001b[39m_run_job(job)\n",
      "\u001b[1;31mKeyboardInterrupt\u001b[0m: "
     ]
    }
   ],
   "source": [
    "# 스케줄 실행\n",
    "while True:\n",
    "    schedule.run_pending()    \n",
    "    if datetime.datetime.now().astimezone(kst_tz) > endDt :\n",
    "        print('거래가 완료되었습니다.')        \n",
    "        schedule.clear()\n",
    "        break"
   ]
  },
  {
   "cell_type": "markdown",
   "metadata": {},
   "source": [
    "#### 포트폴리오 리밸런싱"
   ]
  },
  {
   "cell_type": "markdown",
   "metadata": {},
   "source": [
    "---"
   ]
  },
  {
   "cell_type": "code",
   "execution_count": null,
   "metadata": {},
   "outputs": [],
   "source": [
    "import pytz\n",
    "# Define the Korea Standard Time timezone\n",
    "kst_tz = pytz.timezone('Asia/Seoul')"
   ]
  },
  {
   "cell_type": "code",
   "execution_count": 80,
   "metadata": {},
   "outputs": [],
   "source": [
    "# 진입: \n",
    "\n",
    "\n",
    "# 일단 오늘이 트레이딩 할 날인지: \n",
    "# 만약 맞으면: \n",
    "# 리벨런싱 \n",
    "\n",
    "# 아니면: \n",
    "# 아무것도 안함 "
   ]
  },
  {
   "cell_type": "code",
   "execution_count": 83,
   "metadata": {},
   "outputs": [],
   "source": [
    "today = datetime.datetime.now().astimezone(kst_tz)"
   ]
  },
  {
   "cell_type": "code",
   "execution_count": 84,
   "metadata": {},
   "outputs": [
    {
     "data": {
      "text/plain": [
       "datetime.datetime(2024, 3, 11, 7, 6, 24, 980847, tzinfo=<DstTzInfo 'Asia/Seoul' KST+9:00:00 STD>)"
      ]
     },
     "execution_count": 84,
     "metadata": {},
     "output_type": "execute_result"
    }
   ],
   "source": [
    "today"
   ]
  },
  {
   "cell_type": "markdown",
   "metadata": {},
   "source": [
    "#### 날짜"
   ]
  },
  {
   "cell_type": "code",
   "execution_count": 70,
   "metadata": {},
   "outputs": [],
   "source": [
    "from pandas_market_calendars import get_calendar"
   ]
  },
  {
   "cell_type": "code",
   "execution_count": 79,
   "metadata": {},
   "outputs": [],
   "source": [
    "exchange_name = 'NYSE'\n",
    "exchange_calendar = get_calendar(exchange_name)\n",
    "today = datetime.datetime.now()"
   ]
  },
  {
   "cell_type": "code",
   "execution_count": 73,
   "metadata": {},
   "outputs": [
    {
     "data": {
      "text/plain": [
       "<pandas_market_calendars.calendars.nyse.NYSEExchangeCalendar at 0x2867b70c5f0>"
      ]
     },
     "execution_count": 73,
     "metadata": {},
     "output_type": "execute_result"
    }
   ],
   "source": [
    "exchange_calendar"
   ]
  },
  {
   "cell_type": "code",
   "execution_count": 54,
   "metadata": {},
   "outputs": [],
   "source": [
    "def is_business_day(date):\n",
    "    return pd.to_datetime(date).weekday() < 5"
   ]
  },
  {
   "cell_type": "code",
   "execution_count": 55,
   "metadata": {},
   "outputs": [],
   "source": [
    "today = datetime.datetime.now()"
   ]
  },
  {
   "cell_type": "code",
   "execution_count": 57,
   "metadata": {},
   "outputs": [
    {
     "data": {
      "text/plain": [
       "True"
      ]
     },
     "execution_count": 57,
     "metadata": {},
     "output_type": "execute_result"
    }
   ],
   "source": [
    "is_business_day(today.astimezone(kst_tz))"
   ]
  },
  {
   "cell_type": "code",
   "execution_count": 59,
   "metadata": {},
   "outputs": [],
   "source": [
    "def last_business_day_of_month(year, month):\n",
    "    end_of_month = datetime.date(year, month, 1) + pd.offsets.MonthEnd(0)\n",
    "    while not is_business_day(end_of_month):\n",
    "        end_of_month -= datetime.timedelta(days=1)\n",
    "    return end_of_month"
   ]
  },
  {
   "cell_type": "code",
   "execution_count": 62,
   "metadata": {},
   "outputs": [
    {
     "data": {
      "text/plain": [
       "3"
      ]
     },
     "execution_count": 62,
     "metadata": {},
     "output_type": "execute_result"
    }
   ],
   "source": [
    "today.astimezone(kst_tz).date().month"
   ]
  },
  {
   "cell_type": "code",
   "execution_count": 65,
   "metadata": {},
   "outputs": [
    {
     "data": {
      "text/plain": [
       "Timestamp('2024-05-31 00:00:00')"
      ]
     },
     "execution_count": 65,
     "metadata": {},
     "output_type": "execute_result"
    }
   ],
   "source": [
    "datetime.date(today.astimezone(kst_tz).date().year, today.astimezone(kst_tz).date().month+2, 1) + pd.offsets.MonthEnd(0)"
   ]
  },
  {
   "cell_type": "markdown",
   "metadata": {},
   "source": [
    "---"
   ]
  },
  {
   "cell_type": "markdown",
   "metadata": {},
   "source": [
    "#### 주식 현재가 시세 조회하기"
   ]
  },
  {
   "cell_type": "code",
   "execution_count": 23,
   "metadata": {},
   "outputs": [
    {
     "data": {
      "text/plain": [
       "'73400'"
      ]
     },
     "execution_count": 23,
     "metadata": {},
     "output_type": "execute_result"
    }
   ],
   "source": [
    "path = \"uapi/domestic-stock/v1/quotations/inquire-price\"\n",
    "url = f\"{url_base}/{path}\"\n",
    "\n",
    "headers = {\n",
    "    \"Content-Type\": \"application/json\",\n",
    "    \"authorization\": f\"Bearer {access_token}\",\n",
    "    \"appKey\": app_key,\n",
    "    \"appSecret\": app_secret,\n",
    "    \"tr_id\": \"FHKST01010100\"\n",
    "}\n",
    "\n",
    "# fid_input_iscd: 티커\n",
    "params = {\"fid_cond_mrkt_div_code\": \"J\", \"fid_input_iscd\": \"005930\"}   \n",
    "\n",
    "res = requests.get(url, headers=headers, params=params)\n",
    "res.json()['output']['stck_prpr']"
   ]
  },
  {
   "cell_type": "markdown",
   "metadata": {},
   "source": [
    "#### 주식 잔고조회"
   ]
  },
  {
   "cell_type": "code",
   "execution_count": 25,
   "metadata": {},
   "outputs": [],
   "source": [
    "path = \"/uapi/domestic-stock/v1/trading/inquire-balance\"\n",
    "url = f\"{url_base}/{path}\"\n",
    "\n",
    "headers = {\n",
    "    \"Content-Type\": \"application/json\",\n",
    "    \"authorization\": f\"Bearer {access_token}\",\n",
    "    \"appKey\": app_key,\n",
    "    \"appSecret\": app_secret,\n",
    "    \"tr_id\": \"VTTC8434R\"\n",
    "}\n",
    "\n",
    "params = {\n",
    "    \"CANO\": \"50102559\",  # 계좌번호 앞 8지리\n",
    "    \"ACNT_PRDT_CD\": \"01\",  # 계좌번호 뒤 2자리\n",
    "    \"AFHR_FLPR_YN\": \"N\",  # 시간외단일가여부\n",
    "    \"OFL_YN\": \"\",  # 공란\n",
    "    \"INQR_DVSN\": \"01\",  # 조회구분\n",
    "    \"UNPR_DVSN\": \"01\",  # 단가구분\n",
    "    \"FUND_STTL_ICLD_YN\": \"N\",  # 펀드결제분포함여부\n",
    "    \"FNCG_AMT_AUTO_RDPT_YN\": \"N\",  # 융자금액자동상환여부        \n",
    "    \"PRCS_DVSN\": \"00\",  # 처리구분(00: 전일매매포함)\n",
    "    \"CTX_AREA_FK100\": \"\",  # 연속조회검색조건\n",
    "    \"CTX_AREA_NK100\": \"\"  # 연속조회키\n",
    "}\n",
    "\n",
    "res = requests.get(url, headers=headers, params=params)"
   ]
  },
  {
   "cell_type": "code",
   "execution_count": 27,
   "metadata": {},
   "outputs": [
    {
     "data": {
      "text/plain": [
       "[]"
      ]
     },
     "execution_count": 27,
     "metadata": {},
     "output_type": "execute_result"
    }
   ],
   "source": [
    "res.json()['output1']"
   ]
  },
  {
   "cell_type": "code",
   "execution_count": 28,
   "metadata": {},
   "outputs": [
    {
     "data": {
      "text/plain": [
       "[{'dnca_tot_amt': '10000000',\n",
       "  'nxdy_excc_amt': '10000000',\n",
       "  'prvs_rcdl_excc_amt': '10000000',\n",
       "  'cma_evlu_amt': '0',\n",
       "  'bfdy_buy_amt': '0',\n",
       "  'thdt_buy_amt': '0',\n",
       "  'nxdy_auto_rdpt_amt': '0',\n",
       "  'bfdy_sll_amt': '0',\n",
       "  'thdt_sll_amt': '0',\n",
       "  'd2_auto_rdpt_amt': '0',\n",
       "  'bfdy_tlex_amt': '0',\n",
       "  'thdt_tlex_amt': '0',\n",
       "  'tot_loan_amt': '0',\n",
       "  'scts_evlu_amt': '0',\n",
       "  'tot_evlu_amt': '10000000',\n",
       "  'nass_amt': '10000000',\n",
       "  'fncg_gld_auto_rdpt_yn': '',\n",
       "  'pchs_amt_smtl_amt': '0',\n",
       "  'evlu_amt_smtl_amt': '0',\n",
       "  'evlu_pfls_smtl_amt': '0',\n",
       "  'tot_stln_slng_chgs': '0',\n",
       "  'bfdy_tot_asst_evlu_amt': '10000000',\n",
       "  'asst_icdc_amt': '0',\n",
       "  'asst_icdc_erng_rt': '0.00000000'}]"
      ]
     },
     "execution_count": 28,
     "metadata": {},
     "output_type": "execute_result"
    }
   ],
   "source": [
    "res.json()['output2']"
   ]
  },
  {
   "cell_type": "markdown",
   "metadata": {},
   "source": [
    "#### 매수 주문"
   ]
  },
  {
   "cell_type": "code",
   "execution_count": 24,
   "metadata": {},
   "outputs": [
    {
     "data": {
      "text/plain": [
       "{'rt_cd': '1',\n",
       " 'msg_cd': 'IGW00002',\n",
       " 'msg1': '인증 시점의 계좌번호와 요청 계좌번호가 일치하지 않습니다.'}"
      ]
     },
     "execution_count": 24,
     "metadata": {},
     "output_type": "execute_result"
    }
   ],
   "source": [
    "path = \"/uapi/domestic-stock/v1/trading/order-cash\"\n",
    "url = f\"{url_base}/{path}\"\n",
    "\n",
    "data = {\n",
    "    \"CANO\": \" 50102559\",  # 계좌번호 앞 8지리\n",
    "    \"ACNT_PRDT_CD\": \"01\",  # 계좌번호 뒤 2자리\n",
    "    \"PDNO\": \"005930\",  # 종목코드\n",
    "    \"ORD_DVSN\": \"01\",  # 주문 방법\n",
    "    \"ORD_QTY\": \"10\",  # 주문 수량\n",
    "    \"ORD_UNPR\": \"0\",  # 주문 단가 (시장가의 경우 0)\n",
    "}\n",
    "\n",
    "headers = {\n",
    "    \"Content-Type\": \"application/json\",\n",
    "    \"authorization\": f\"Bearer {access_token}\",\n",
    "    \"appKey\": app_key,\n",
    "    \"appSecret\": app_secret,\n",
    "    \"tr_id\": \"VTTC0802U\",\n",
    "    \"custtype\": \"P\",\n",
    "    \"hashkey\": hashkey(data)\n",
    "}\n",
    "\n",
    "res = requests.post(url, headers=headers, data=json.dumps(data))\n",
    "res.json()"
   ]
  },
  {
   "cell_type": "code",
   "execution_count": null,
   "metadata": {},
   "outputs": [],
   "source": []
  }
 ],
 "metadata": {
  "kernelspec": {
   "display_name": "Python 3",
   "language": "python",
   "name": "python3"
  },
  "language_info": {
   "codemirror_mode": {
    "name": "ipython",
    "version": 3
   },
   "file_extension": ".py",
   "mimetype": "text/x-python",
   "name": "python",
   "nbconvert_exporter": "python",
   "pygments_lexer": "ipython3",
   "version": "3.12.2"
  }
 },
 "nbformat": 4,
 "nbformat_minor": 2
}
